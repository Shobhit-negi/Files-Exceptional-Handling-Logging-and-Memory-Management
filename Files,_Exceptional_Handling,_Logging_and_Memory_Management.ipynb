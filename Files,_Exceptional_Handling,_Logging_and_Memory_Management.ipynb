{
  "nbformat": 4,
  "nbformat_minor": 0,
  "metadata": {
    "colab": {
      "provenance": []
    },
    "kernelspec": {
      "name": "python3",
      "display_name": "Python 3"
    },
    "language_info": {
      "name": "python"
    }
  },
  "cells": [
    {
      "cell_type": "markdown",
      "source": [
        "# Files, Exceptional Handling, Logging and Memory Management"
      ],
      "metadata": {
        "id": "gBYXEXnDfP9z"
      }
    },
    {
      "cell_type": "markdown",
      "source": [
        "THEORY QUESTIONS"
      ],
      "metadata": {
        "id": "u7_aEiFBfSoY"
      }
    },
    {
      "cell_type": "markdown",
      "source": [
        "Q1. What is the difference between interpreted and compiled languages?\n",
        "\n",
        "- Interpreted language: Code is run line-by-line by an interpreter (like Python). If there's an error, execution stops at that line.\n",
        "\n",
        "- Compiled language: The entire code is translated into machine code first (like C++), and then run. Errors are caught during the compilation.\n",
        "\n",
        "- eg: Interpreter is like a translator who speaks as we speak. A compiler is like writing a whole book, then translating it, and reading it in one go.\n",
        "\n",
        "\n",
        "Q2. What is exception handling in Python?\n",
        "\n",
        "- It is how Python deals with errors. Instead of crashing, Python can catch the error.\n",
        "- eg: If we are withdrawing 1000 rupees from an ATM, but the balance is ₹500. Instead of crashing the machine, it shows: “Insufficient Balance.”\n",
        "\n",
        "Q3. What is the purpose of the finally block in exception handling?\n",
        "\n",
        "- It always runs, no matter what—error or not.\n",
        "- eg: it is like locking our house door. Whether or not our journey was successful, we always lock the door whenever we are out. That is what finally does—always runs.\n",
        "\n",
        "Q4. What is logging in Python?\n",
        "\n",
        "- It is like keeping a record of what our program is doing.\n",
        "- eg: Like a security camera recording everything, so we can check later if something went wrong.\n",
        "\n",
        "Q5. What is the significance of the __ del __ method in Python?\n",
        "- It runs when an object is deleted to do cleanup.\n",
        "\n",
        "- eg: When we delete the cache or cokkies from our browser, it clears its memory—__del__ is like that final closing action.\n",
        "\n",
        "Q6. What is the difference between import and from ... import in Python?\n",
        "\n",
        "- Both brings the code from another module\n",
        "- import math > Use math.sqrt()\n",
        "- from math import sqrt > Just use sqrt()\n",
        "\n",
        "- eg: It is like either bringing the whole toolbox (import) or just the specific tool you need (from ... import).\n",
        "\n",
        "Q7. How can you handle multiple exceptions in Python?\n",
        "\n",
        "- We can catch more than one type of error in a single or multiple except blocks.\n",
        "\n"
      ],
      "metadata": {
        "id": "c-iKU8imff5_"
      }
    },
    {
      "cell_type": "code",
      "source": [
        "try:\n",
        "    # some code\n",
        "except (TypeError, ValueError) as e:\n",
        "    print(\"Caught an error:\", e)"
      ],
      "metadata": {
        "id": "IXQVMPPnfU84"
      },
      "execution_count": null,
      "outputs": []
    },
    {
      "cell_type": "markdown",
      "source": [
        "Q8. What is the purpose of the with statement when handling files in Python?\n",
        "\n",
        "- It automatically opens and closes the file.\n",
        "\n"
      ],
      "metadata": {
        "id": "PvTM9z10kAi2"
      }
    },
    {
      "cell_type": "code",
      "source": [
        "with open('file.txt') as f:\n",
        "    data = f.read()"
      ],
      "metadata": {
        "id": "5YlVL-9ikPr2"
      },
      "execution_count": null,
      "outputs": []
    },
    {
      "cell_type": "markdown",
      "source": [
        "Q9. What is the difference between multithreading and multiprocessing?\n",
        "\n",
        "- Multithreading = Multiple tasks in one process (good for waiting tasks like downloads).\n",
        "\n",
        "- Multiprocessing = Runs tasks in different processes. Better for CPU-heavy tasks.\n",
        "\n",
        "- eg: Multithreading is like a chef is cooking and answering phone at the same time. Whereas, in multiprocessing two chefs cooking in separate kitchens.\n",
        "\n",
        "Q10. What are the advantages of using logging in a program?\n",
        "\n",
        "- Keeps a record of events\n",
        "\n",
        "- Helps with debugging\n",
        "\n",
        "- It Can track errors and performance issues\n",
        "\n",
        "- It is like keeping a maintenance book for our car. We know exactly when we got the last service done and when we need to do a new one.\n",
        "\n",
        "Q11. What is memory management in Python?\n",
        "\n",
        "- Python automatically manages memory using a garbage collector, which frees memory that is no longer needed.\n",
        "\n",
        "- eg: Our mobile phone cleaning background apps to free up RAM without us doing anything.\n",
        "\n",
        "Q12. What are the basic steps involved in exception handling in Python?\n",
        "\n",
        "- we can use try, except, else, and finally to safely run code.\n",
        "\n",
        "- eg: Trying to open a door:\n",
        "\n",
        "    1) try: Open the door\n",
        "\n",
        "    2) except: If locked, use backup key\n",
        "\n",
        "    3) else: If it opens, walk in\n",
        "\n",
        "    4) finally: Close the door\n",
        "\n",
        "\n",
        "Q13. Why is memory management important in Python?\n",
        "\n",
        "- Good memory management keeps our program fast and efficient, avoiding memory leaks and crashes.\n",
        "\n",
        "- eg: Cleaning our room. If we never throw old stuff out, there will be no space for new things. And it will be difficult to find things when we need them.\n",
        "\n",
        "Q14. What is the role of try and except in exception handling?\n",
        "\n",
        "- try: Code that might throw an error\n",
        "- except: Code to run if there's an error\n",
        "\n",
        "Q15. How does Python's garbage collection system work?\n",
        "\n",
        "- It tracks references to objects. When no one is using an object anymore, Python automatically deletes it to free up memory.\n",
        "\n",
        "- eg: Like automatically throwing away not needed stuff from room to free up space for new things.\n",
        "\n",
        "Q16. What is the purpose of the else block in exception handling?\n",
        "\n",
        "- The else block runs only if no exceptions occurred in the try block.\n",
        "- eg: If we successfully bake a cake without burning it, we get to decorate it (else no happy birthday).\n",
        "\n",
        "Q17. What are the common logging levels in Python?\n",
        "\n",
        "- DEBUG, INFO, WARNING, ERROR, CRITICAL are logging levels in python.\n",
        "- 1) DEBUG: Developer notes\n",
        "- 2) INFO: Everything is fine\n",
        "- 3) WARNING: Be careful\n",
        "- 4) ERROR: Something went wrong\n",
        "- 5) CRITICAL: Emergency\n",
        "\n",
        "Q18. What is the difference between os.fork() and multiprocessing in Python?\n",
        "\n",
        "- Both create new processes However, os.fork() works only on Unix/Linux. However, multiprocessing works on all platforms and is more user-friendly.\n",
        "\n",
        "- eg: os.fork() is like copy-pasting a whole app manually. Whereas, multiprocessing is like using a built-in “duplicate” button.\n",
        "\n",
        "Q19. What is the importance of closing a file in Python?\n",
        "\n",
        "- It frees up system resources and ensures that data is written properly.\n",
        "- eg: it is like closing the gate while leaving the room, so that AC's cool air doesn't leave the room.\n",
        "\n",
        "Q20. What is the difference between file.read() and file.readline() in Python?\n",
        "\n",
        "- read() reads the entire file as a string. Whereas, readline() reads one line at a time.\n",
        "\n",
        "- eg: Like reading an entire whatsapp chat at once vs. scrolling message by message.\n",
        "\n",
        "Q21. What is the logging module in Python used for?\n",
        "\n",
        "- It is used to record messages (info, warnings, errors) in our program.\n",
        "- eg: it is like recording the pwskills classes so that we can go through it if we do not understand any topic.\n",
        "\n",
        "Q22. What is the os module in Python used for in file handling?\n",
        "\n",
        "- It helps interact with the operating system: check if a file exists, get file paths, delete files, etc.\n",
        "\n",
        "Q23. What are the challenges associated with memory management in Python?\n",
        "\n",
        "- Reference cycles, unnecessary memory usage, and tracking object references can be tricky in large programs.\n",
        "\n",
        "- eg: it is ike running multiple apps in the background and not closing them will slows everything down.\n",
        "\n",
        "Q24. How do you raise an exception manually in Python?\n",
        "\n",
        "- We can throw an error on purpose using raise.\n",
        "- eg: If someone enters age = -1, we raise an error: “That is not a valid age!”"
      ],
      "metadata": {
        "id": "BpTsZVfSkTFt"
      }
    },
    {
      "cell_type": "markdown",
      "source": [],
      "metadata": {
        "id": "-M_-Lhrxj_oH"
      }
    },
    {
      "cell_type": "code",
      "source": [
        "if age < 0:\n",
        "    raise ValueError(\"Age cannot be negative\")"
      ],
      "metadata": {
        "id": "DBqnZlHAfW6h"
      },
      "execution_count": null,
      "outputs": []
    },
    {
      "cell_type": "markdown",
      "source": [
        "Q25. Why is it important to use multithreading in certain applications?\n",
        "\n",
        "- It allows multiple tasks to run at the same time, improving performance in I/O-bound programs (e.g., reading from files or web).\n",
        "\n",
        "- eg : It is like a chef is cooking and answering phone at the same time.\n",
        "\n"
      ],
      "metadata": {
        "id": "Wtg_r7yIqdOG"
      }
    },
    {
      "cell_type": "markdown",
      "source": [
        "# PRACTICAL QUESTIONS"
      ],
      "metadata": {
        "id": "sxMyZZWkq62p"
      }
    },
    {
      "cell_type": "code",
      "source": [
        "#Q1. How can you open a file for writing in Python and write a string to it?\n",
        "\n",
        "with open(\"example.txt\", \"w\") as file:\n",
        "    file.write(\"Hello, I am learning Python!\")\n",
        "\n",
        "# opening a notebook (\"w\" means write mode), writing something, and closing it automatically."
      ],
      "metadata": {
        "id": "q4rZ1yORfXM1"
      },
      "execution_count": 3,
      "outputs": []
    },
    {
      "cell_type": "code",
      "source": [
        "#Q2. Write a Python program to read the contents of a file and print each line.\n",
        "\n",
        "with open(\"example.txt\", \"r\") as file:\n",
        "    for line in file:\n",
        "        print(line)\n",
        "\n",
        "# open a book and read it line by line. This helps if the file is big."
      ],
      "metadata": {
        "colab": {
          "base_uri": "https://localhost:8080/"
        },
        "id": "uTOBBOGdrV9q",
        "outputId": "31cd3999-e366-4b9d-cf4c-cdd587b41f06"
      },
      "execution_count": 5,
      "outputs": [
        {
          "output_type": "stream",
          "name": "stdout",
          "text": [
            "Hello, I am learning Python!\n"
          ]
        }
      ]
    },
    {
      "cell_type": "code",
      "source": [
        "#Q3. How would you handle a case where the file doesn't exist while trying to open it for reading?\n",
        "\n",
        "try:\n",
        "    with open(\"no_such_file.txt\", \"r\") as file:\n",
        "        content = file.read()\n",
        "except FileNotFoundError:\n",
        "    print(\"Oops! The file does not exist.\")\n",
        "\n",
        "# It’s like trying to open a locked door. If the key doesn’t work, we handle the problem without crashing."
      ],
      "metadata": {
        "colab": {
          "base_uri": "https://localhost:8080/"
        },
        "id": "jD7obtS0fXUa",
        "outputId": "b7f3bbbc-9f37-4ee2-f2d9-4aa2e38d9d8e"
      },
      "execution_count": 6,
      "outputs": [
        {
          "output_type": "stream",
          "name": "stdout",
          "text": [
            "Oops! The file does not exist.\n"
          ]
        }
      ]
    },
    {
      "cell_type": "code",
      "source": [
        "#Q4. Write a Python script that reads from one file and writes its content to another file?\n",
        "\n",
        "with open(\"source.txt\", \"r\") as src:\n",
        "    content = src.read()\n",
        "\n",
        "with open(\"destination.txt\", \"w\") as dest:\n",
        "    dest.write(content)\n",
        "\n",
        "\n",
        "# notebook (source.txt) is missing hence the error in the code."
      ],
      "metadata": {
        "id": "KPvk_k-LfXYE"
      },
      "execution_count": null,
      "outputs": []
    },
    {
      "cell_type": "code",
      "source": [
        "#Q5. How would you catch and handle division by zero error in Python?\n",
        "\n",
        "try:\n",
        "    result = 10 / 0\n",
        "except ZeroDivisionError:\n",
        "    print(\"Can't divide by zero!\")\n"
      ],
      "metadata": {
        "colab": {
          "base_uri": "https://localhost:8080/"
        },
        "id": "oFOSNuoUfXbt",
        "outputId": "a5a88f82-808b-4f80-b1e3-f322d4f4bf8d"
      },
      "execution_count": 8,
      "outputs": [
        {
          "output_type": "stream",
          "name": "stdout",
          "text": [
            "Can't divide by zero!\n"
          ]
        }
      ]
    },
    {
      "cell_type": "code",
      "source": [
        "#Q6. Write a Python program that logs an error message to a log file when a division by zero exception occurs?\n",
        "\n",
        "import logging\n",
        "\n",
        "logging.basicConfig(filename='app.log', level=logging.ERROR)\n",
        "\n",
        "try:\n",
        "    5 / 0\n",
        "except ZeroDivisionError as e:\n",
        "    logging.error(\"Division by zero error occurred: %s\", e)"
      ],
      "metadata": {
        "colab": {
          "base_uri": "https://localhost:8080/"
        },
        "id": "C7dqgT5jfXd_",
        "outputId": "a7a86141-422a-4ae6-9e4a-9f235aa2057b"
      },
      "execution_count": 9,
      "outputs": [
        {
          "output_type": "stream",
          "name": "stderr",
          "text": [
            "ERROR:root:Division by zero error occurred: division by zero\n"
          ]
        }
      ]
    },
    {
      "cell_type": "code",
      "source": [
        "#Q7. How do you log information at different levels (INFO, ERROR, WARNING) in Python using the logging module?\n",
        "\n",
        "import logging\n",
        "\n",
        "logging.basicConfig(level=logging.DEBUG)\n",
        "\n",
        "logging.info(\"This is some information\")\n",
        "logging.warning(\"This is a warning\")\n",
        "logging.error(\"This is an error message\")\n",
        "\n",
        "\"\"\" Like traffic lights:\n",
        "\n",
        "INFO: Green – all good\n",
        "\n",
        "WARNING: Yellow – careful!\n",
        "\n",
        "ERROR: Red – something’s wrong\"\"\""
      ],
      "metadata": {
        "colab": {
          "base_uri": "https://localhost:8080/"
        },
        "id": "8X__epLSfXg9",
        "outputId": "edee3b35-fbf9-48d9-e49e-54f69de5d2bb"
      },
      "execution_count": 10,
      "outputs": [
        {
          "output_type": "stream",
          "name": "stderr",
          "text": [
            "WARNING:root:This is a warning\n",
            "ERROR:root:This is an error message\n"
          ]
        }
      ]
    },
    {
      "cell_type": "code",
      "source": [
        "#Q8. Write a program to handle a file opening error using exception handling?\n",
        "try:\n",
        "    with open(\"random_file.txt\") as file:\n",
        "        print(file.read())\n",
        "except FileNotFoundError:\n",
        "    print(\"File not found.\")"
      ],
      "metadata": {
        "colab": {
          "base_uri": "https://localhost:8080/"
        },
        "id": "rRBWrbc3fXkC",
        "outputId": "6dbb54a2-65c9-4fd6-a396-eefbf6b2d4f2"
      },
      "execution_count": 11,
      "outputs": [
        {
          "output_type": "stream",
          "name": "stdout",
          "text": [
            "File not found.\n"
          ]
        }
      ]
    },
    {
      "cell_type": "code",
      "source": [
        "#Q9. How can you read a file line by line and store its content in a list in Python\n",
        "\n",
        "with open(\"example.txt\", \"r\") as file:\n",
        "    lines = file.readlines()\n",
        "\n",
        "print(lines)"
      ],
      "metadata": {
        "colab": {
          "base_uri": "https://localhost:8080/"
        },
        "id": "_crVt-0HfXm0",
        "outputId": "d561c975-6c4e-4d84-b076-861ac6ddf8b5"
      },
      "execution_count": 12,
      "outputs": [
        {
          "output_type": "stream",
          "name": "stdout",
          "text": [
            "['Hello, I am learning Python!']\n"
          ]
        }
      ]
    },
    {
      "cell_type": "code",
      "source": [
        "#Q10. How can you append data to an existing file in Python?\n",
        "with open(\"example.txt\", \"a\") as file:\n",
        "    file.write(\"\\nAdding a new line!\")"
      ],
      "metadata": {
        "id": "LOHKbb-nfXpk"
      },
      "execution_count": 14,
      "outputs": []
    },
    {
      "cell_type": "code",
      "source": [
        "#Q11. Write a Python program that uses a try-except block to handle an error when attempting to access a dictionary key that doesn't exist.\n",
        "\n",
        "my_dict = {\"name\": \"Alice\"}\n",
        "\n",
        "try:\n",
        "    print(my_dict[\"age\"])\n",
        "except KeyError:\n",
        "    print(\"Oops! That key doesn’t exist.\")"
      ],
      "metadata": {
        "colab": {
          "base_uri": "https://localhost:8080/"
        },
        "id": "qeq79U04fXse",
        "outputId": "399cb69d-8470-46d7-ae6d-d966fb43d8a6"
      },
      "execution_count": 15,
      "outputs": [
        {
          "output_type": "stream",
          "name": "stdout",
          "text": [
            "Oops! That key doesn’t exist.\n"
          ]
        }
      ]
    },
    {
      "cell_type": "code",
      "source": [
        "#Q12. Write a program that demonstrates using multiple except blocks to handle different types of exceptions.\n",
        "\n",
        "try:\n",
        "    x = int(\"abc\")  # ValueError\n",
        "    y = 10 / 0       # ZeroDivisionError\n",
        "except ValueError:\n",
        "    print(\"That's not a number.\")\n",
        "except ZeroDivisionError:\n",
        "    print(\"You can't divide by zero.\")"
      ],
      "metadata": {
        "colab": {
          "base_uri": "https://localhost:8080/"
        },
        "id": "k6UILrKat6vl",
        "outputId": "36f5f8f2-40e5-4496-bdd3-a9797e66972d"
      },
      "execution_count": 16,
      "outputs": [
        {
          "output_type": "stream",
          "name": "stdout",
          "text": [
            "That's not a number.\n"
          ]
        }
      ]
    },
    {
      "cell_type": "code",
      "source": [
        "#Q13. How would you check if a file exists before attempting to read it in Python?\n",
        "\n",
        "import os\n",
        "\n",
        "if os.path.exists(\"example.txt\"):\n",
        "    with open(\"example.txt\", \"r\") as file:\n",
        "        print(file.read())\n",
        "else:\n",
        "    print(\"File does not exist.\")"
      ],
      "metadata": {
        "colab": {
          "base_uri": "https://localhost:8080/"
        },
        "id": "_eOHDO5gt6tE",
        "outputId": "640ecb48-096f-41e5-fda0-1c48f8f5017d"
      },
      "execution_count": 17,
      "outputs": [
        {
          "output_type": "stream",
          "name": "stdout",
          "text": [
            "Hello, I am learning Python!\n",
            "Adding a new line!\n",
            "Adding a new line!\n"
          ]
        }
      ]
    },
    {
      "cell_type": "code",
      "source": [
        "#Q14. Write a program that uses the logging module to log both informational and error messages?\n",
        "import logging\n",
        "\n",
        "logging.basicConfig(filename='app.log', level=logging.INFO)\n",
        "\n",
        "logging.info(\"Program started successfully\")\n",
        "\n",
        "try:\n",
        "    x = 10 / 0\n",
        "except ZeroDivisionError as e:\n",
        "    logging.error(\"An error occurred: %s\", e)\n",
        "\n",
        "\n",
        "\"\"\"\n",
        "Like keeping a journal:\n",
        "\n",
        "“Woke up and had coffee” (info)\n",
        "\n",
        "“Spilled the coffee on laptop” (error)\n",
        "\"\"\""
      ],
      "metadata": {
        "colab": {
          "base_uri": "https://localhost:8080/"
        },
        "id": "AB6JWAZgt6qs",
        "outputId": "edc05a4a-2279-4637-c33b-92aa373891eb"
      },
      "execution_count": 18,
      "outputs": [
        {
          "output_type": "stream",
          "name": "stderr",
          "text": [
            "ERROR:root:An error occurred: division by zero\n"
          ]
        }
      ]
    },
    {
      "cell_type": "code",
      "source": [
        "#Q15. Write a Python program that prints the content of a file and handles the case when the file is empty\n",
        "\n",
        "filename = \"example.txt\"\n",
        "\n",
        "try:\n",
        "    with open(filename, \"r\") as file:\n",
        "        content = file.read()\n",
        "        if content.strip() == \"\":\n",
        "            print(\"The file is empty.\")\n",
        "        else:\n",
        "            print(content)\n",
        "except FileNotFoundError:\n",
        "    print(\"File not found.\")"
      ],
      "metadata": {
        "colab": {
          "base_uri": "https://localhost:8080/"
        },
        "id": "o3DGGk38t6n3",
        "outputId": "0d998c12-9283-445e-bc0d-23eab2974de8"
      },
      "execution_count": 19,
      "outputs": [
        {
          "output_type": "stream",
          "name": "stdout",
          "text": [
            "Hello, I am learning Python!\n",
            "Adding a new line!\n",
            "Adding a new line!\n"
          ]
        }
      ]
    },
    {
      "cell_type": "code",
      "source": [
        "#Q16. Demonstrate how to use memory profiling to check the memory usage of a small program\n",
        "\n",
        "# You must install memory_profiler first: pip install memory_profiler\n",
        "\n",
        "from memory_profiler import profile\n",
        "\n",
        "@profile\n",
        "def my_function():\n",
        "    a = [i for i in range(100000)]\n",
        "    return a\n",
        "\n",
        "my_function()\n",
        "\n",
        "\"\"\"\n",
        "There will be an error on running the code. memory_profiler first: pip install memory_profiler is not installed.\n",
        "\"\"\"\n"
      ],
      "metadata": {
        "id": "J2FEUbelt6l2"
      },
      "execution_count": null,
      "outputs": []
    },
    {
      "cell_type": "code",
      "source": [
        "#Q17. Write a Python program to create and write a list of numbers to a file, one number per line?\n",
        "\n",
        "numbers = [1, 2, 3, 4, 5]\n",
        "\n",
        "with open(\"numbers.txt\", \"w\") as file:\n",
        "    for number in numbers:\n",
        "        file.write(str(number) + \"\\n\")"
      ],
      "metadata": {
        "id": "wMT0F-5Yt6if"
      },
      "execution_count": 21,
      "outputs": []
    },
    {
      "cell_type": "code",
      "source": [
        "#Q18. How would you implement a basic logging setup that logs to a file with rotation after 1MB?\n",
        "\n",
        "import logging\n",
        "from logging.handlers import RotatingFileHandler\n",
        "\n",
        "handler = RotatingFileHandler(\"rotate_log.log\", maxBytes=1024*1024, backupCount=3)\n",
        "logging.basicConfig(handlers=[handler], level=logging.INFO)\n",
        "\n",
        "for i in range(10000):\n",
        "    logging.info(\"This is log message number %d\", i)"
      ],
      "metadata": {
        "id": "nRafHMvBt6fW"
      },
      "execution_count": 22,
      "outputs": []
    },
    {
      "cell_type": "code",
      "source": [
        "#Q19. Write a program that handles both IndexError and KeyError using a try-except block?\n",
        "\n",
        "my_list = [1, 2]\n",
        "my_dict = {\"name\": \"Alice\"}\n",
        "\n",
        "try:\n",
        "    print(my_list[5])  # IndexError\n",
        "    print(my_dict[\"age\"])  # KeyError\n",
        "except IndexError:\n",
        "    print(\"List index out of range!\")\n",
        "except KeyError:\n",
        "    print(\"That key doesn't exist in the dictionary.\")"
      ],
      "metadata": {
        "colab": {
          "base_uri": "https://localhost:8080/"
        },
        "id": "fFStPPFFt6ca",
        "outputId": "c1abc94e-2f23-4ed6-c2b5-41bd06bad7bf"
      },
      "execution_count": 23,
      "outputs": [
        {
          "output_type": "stream",
          "name": "stdout",
          "text": [
            "List index out of range!\n"
          ]
        }
      ]
    },
    {
      "cell_type": "code",
      "source": [
        "#Q20. How would you open a file and read its contents using a context manager in Python?\n",
        "\n",
        "with open(\"example.txt\", \"r\") as file:\n",
        "    content = file.read()\n",
        "    print(content)"
      ],
      "metadata": {
        "colab": {
          "base_uri": "https://localhost:8080/"
        },
        "id": "LbqBGTekt6aV",
        "outputId": "077df458-7d6b-4e08-9949-dc031b9c8f7d"
      },
      "execution_count": 24,
      "outputs": [
        {
          "output_type": "stream",
          "name": "stdout",
          "text": [
            "Hello, I am learning Python!\n",
            "Adding a new line!\n",
            "Adding a new line!\n"
          ]
        }
      ]
    },
    {
      "cell_type": "code",
      "source": [
        "#Q21. Write a Python program that reads a file and prints the number of occurrences of a specific word?\n",
        "\n",
        "word_to_search = \"python\"\n",
        "\n",
        "with open(\"example.txt\", \"r\") as file:\n",
        "    content = file.read()\n",
        "    word_count = content.lower().count(word_to_search.lower())\n",
        "\n",
        "print(f\"The word '{word_to_search}' appeared {word_count} times.\")"
      ],
      "metadata": {
        "colab": {
          "base_uri": "https://localhost:8080/"
        },
        "id": "WzYWe1zDt6YZ",
        "outputId": "0bd619ff-199e-46de-c564-07fddc51d031"
      },
      "execution_count": 25,
      "outputs": [
        {
          "output_type": "stream",
          "name": "stdout",
          "text": [
            "The word 'python' appeared 1 times.\n"
          ]
        }
      ]
    },
    {
      "cell_type": "code",
      "source": [
        "#Q22. How can you check if a file is empty before attempting to read its contents?\n",
        "\n",
        "import os\n",
        "\n",
        "file_path = \"example.txt\"\n",
        "\n",
        "if os.path.exists(file_path) and os.path.getsize(file_path) > 0:\n",
        "    with open(file_path, \"r\") as file:\n",
        "        print(file.read())\n",
        "else:\n",
        "    print(\"File is either missing or empty.\")"
      ],
      "metadata": {
        "colab": {
          "base_uri": "https://localhost:8080/"
        },
        "id": "rR1whvQat6Tx",
        "outputId": "9da55284-36f6-4b1b-d921-8e89342f9a73"
      },
      "execution_count": 26,
      "outputs": [
        {
          "output_type": "stream",
          "name": "stdout",
          "text": [
            "Hello, I am learning Python!\n",
            "Adding a new line!\n",
            "Adding a new line!\n"
          ]
        }
      ]
    },
    {
      "cell_type": "code",
      "source": [
        "#Q23. Write a Python program that writes to a log file when an error occurs during file handling.\n",
        "\n",
        "import logging\n",
        "\n",
        "logging.basicConfig(filename=\"file_errors.log\", level=logging.ERROR)\n",
        "\n",
        "try:\n",
        "    with open(\"nonexistent.txt\", \"r\") as file:\n",
        "        data = file.read()\n",
        "except FileNotFoundError as e:\n",
        "    logging.error(\"File error: %s\", e)"
      ],
      "metadata": {
        "colab": {
          "base_uri": "https://localhost:8080/"
        },
        "id": "v4uhVpgwt6K8",
        "outputId": "08dd55c8-574c-450a-de9a-01132c791d07"
      },
      "execution_count": 27,
      "outputs": [
        {
          "output_type": "stream",
          "name": "stderr",
          "text": [
            "ERROR:root:File error: [Errno 2] No such file or directory: 'nonexistent.txt'\n"
          ]
        }
      ]
    }
  ]
}